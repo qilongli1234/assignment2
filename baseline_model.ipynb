{
 "metadata": {
  "language_info": {
   "codemirror_mode": {
    "name": "ipython",
    "version": 3
   },
   "file_extension": ".py",
   "mimetype": "text/x-python",
   "name": "python",
   "nbconvert_exporter": "python",
   "pygments_lexer": "ipython3",
   "version": "3.7.6-final"
  },
  "orig_nbformat": 2,
  "kernelspec": {
   "name": "python3",
   "display_name": "Python 3"
  }
 },
 "nbformat": 4,
 "nbformat_minor": 2,
 "cells": [
  {
   "cell_type": "code",
   "execution_count": null,
   "metadata": {},
   "outputs": [],
   "source": [
    "## Imports and set up some basic defs\n",
    "import numpy\n",
    "from urllib.request import urlopen\n",
    "from collections import defaultdict\n",
    "from sklearn.metrics import mean_squared_error\n",
    "from sklearn import linear_model\n",
    "import matplotlib.pyplot as plt\n",
    "import scipy\n",
    "import scipy.optimize\n",
    "import random\n",
    "import copy\n",
    "import gzip\n",
    "import json\n",
    "import string\n",
    "\n",
    "def parseData(fname):\n",
    "    for l in open(fname):\n",
    "        yield eval(l)\n",
    "def feature_label(data):\n",
    "    return data[\"fit\"]\n",
    "def feature_X(data):\n",
    "    return [1,data['height'],data['weight'],int(data['rating'])]\n",
    "def str_to_inch(s):\n",
    "    s = s.replace('\\\"', '')\n",
    "    height=s.split(\"\\'\")\n",
    "    return int(height[0])*12+int(height[1])\n",
    "def str_to_weight(s):\n",
    "    s = s.replace('lbs', '')\n",
    "    return int(s)\n",
    "\n",
    "\n",
    "test_data = list(parseData(\"modcloth_final_data.json\"))\n",
    "#random.shuffle(data)\n",
    "print(test_data[:10])"
   ]
  },
  {
   "cell_type": "code",
   "execution_count": null,
   "metadata": {},
   "outputs": [],
   "source": [
    "#f = open('renttherunway_final_data.json', \"r\")\n",
    "# makes sure the data used has similar info\n",
    "data = list([json.loads(line) for line in open('renttherunway_final_data.json', 'r')])\n",
    "    \n",
    "data1=[]\n",
    "data_test=[]\n",
    "for i in data:\n",
    "    if 'weight' in i and 'bust size' in i and 'height' in i and 'rating' in i and 'review_text' in i:\n",
    "        if i['rating'] != None:\n",
    "            i['weight']=str_to_weight(i['weight'])\n",
    "            i['height']=str_to_inch(i['height'])\n",
    "            data1.append(i)\n",
    "\n",
    "for i in test_data:\n",
    "    if 'weight' in i and 'bust size' in i and 'height' in i and 'rating' in i and 'review_text' in i:\n",
    "        i['weight']=str_to_weight(i['weight'])\n",
    "        i['height']=str_to_inch(i['height'])\n",
    "        data_test.append(i)"
   ]
  },
  {
   "cell_type": "code",
   "execution_count": null,
   "metadata": {},
   "outputs": [],
   "source": [
    "## Shuffle the data\n",
    "random.shuffle(data1)\n",
    "random.shuffle(test_data)\n",
    "random.shuffle(data_test)"
   ]
  },
  {
   "cell_type": "code",
   "execution_count": null,
   "metadata": {},
   "outputs": [],
   "source": [
    "print(f'date1[0]: {data1[0]}')\n",
    "print()\n",
    "print(f'data_test[0]: {test_data[0]}')\n",
    "\n",
    "print(f'date keys: {data1[0].keys()}')\n",
    "print()\n",
    "print(f'data_test keys: {test_data[0].keys()}')\n",
    "\n",
    "# print(f'data_test[0]: {Object.keys(test_data[0])}')\n",
    "\n",
    "# for  i in data1:\n",
    "#     key = i\n",
    "#     val = data1[i]\n",
    "#     for j in val:\n",
    "#         sub_key = j\n",
    "#         sub_val = val[j]\n",
    "#         console.log(sub_key)\n",
    "    \n"
   ]
  },
  {
   "cell_type": "code",
   "execution_count": null,
   "metadata": {
    "tags": []
   },
   "outputs": [],
   "source": [
    "review_small = []\n",
    "review_fit = []\n",
    "review_large = []\n",
    "for d in data1:\n",
    "    # print(type(int(d['rating'])))\n",
    "    if d['fit'] == \"fit\":\n",
    "        review_fit.append(int(d['rating']))\n",
    "    elif d['fit'] == \"small\":\n",
    "        review_small.append(int(d['rating']))\n",
    "    else:\n",
    "        review_large.append(int(d['rating']))\n",
    "\n",
    "print(sum(review_small)/len(review_small))\n",
    "\n",
    "print(sum(review_fit)/len(review_fit))\n",
    "print(sum(review_large)/len(review_large))\n",
    "\n",
    "print(f'len of small {len(review_small)}')\n",
    "print(f'len of fit {len(review_fit)}')\n",
    "print(f'len of large {len(review_large)}')\n",
    "\n",
    "print(f'percent of small {len(review_small)/len(data1)}')\n",
    "print(f'percent of fit {len(review_fit)/len(data1)}')\n",
    "print(f'percent of big {len(review_large)/len(data1)}')\n",
    "\n",
    "\n"
   ]
  },
  {
   "source": [
    "## Base Model\n",
    "Since 73% percent of the data is fit, assumning this gives us a accurcay of 73. in train data set."
   ],
   "cell_type": "markdown",
   "metadata": {}
  },
  {
   "cell_type": "code",
   "execution_count": null,
   "metadata": {},
   "outputs": [],
   "source": [
    "# pred_fit = []\n",
    "# for i in range(len(data_test))\n",
    "#     pred_fit.append('fit')\n",
    "\n",
    "count = 0\n",
    "for data in test_data:\n",
    "    if data['fit'] == 'fit':\n",
    "        count += 1\n",
    "\n",
    "print(f'Accuray = {count/len(test_data)}')"
   ]
  },
  {
   "source": [
    "## In practice\n",
    "This gives us an acc of 68%"
   ],
   "cell_type": "markdown",
   "metadata": {}
  },
  {
   "cell_type": "code",
   "execution_count": null,
   "metadata": {},
   "outputs": [],
   "source": [
    "import matplotlib.pyplot as plt\n",
    "import numpy as np\n",
    "plt.hist(review_small)\n",
    "plt.title(\"Small\")\n",
    "plt.show()"
   ]
  },
  {
   "cell_type": "code",
   "execution_count": null,
   "metadata": {},
   "outputs": [],
   "source": [
    "plt.hist(review_fit)\n",
    "plt.title(\"fit\")\n",
    "plt.show()"
   ]
  },
  {
   "cell_type": "code",
   "execution_count": null,
   "metadata": {},
   "outputs": [],
   "source": [
    "plt.hist(review_fit)\n",
    "plt.title(\"large\")\n",
    "plt.show()"
   ]
  },
  {
   "cell_type": "code",
   "execution_count": null,
   "metadata": {},
   "outputs": [],
   "source": []
  }
 ]
}